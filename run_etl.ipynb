{
 "cells": [
  {
   "cell_type": "markdown",
   "metadata": {},
   "source": [
    "# Part I. ETL Pipeline for Pre-Processing the Files"
   ]
  },
  {
   "cell_type": "markdown",
   "metadata": {},
   "source": [
    "#### Import Python packages "
   ]
  },
  {
   "cell_type": "code",
   "execution_count": 1,
   "metadata": {},
   "outputs": [],
   "source": [
    "# Import Python packages \n",
    "import pandas as pd\n",
    "import cassandra\n",
    "import re\n",
    "import os\n",
    "import glob\n",
    "import numpy as np\n",
    "import json\n",
    "import csv"
   ]
  },
  {
   "cell_type": "markdown",
   "metadata": {},
   "source": [
    "#### Get CSV filepaths"
   ]
  },
  {
   "cell_type": "code",
   "execution_count": 2,
   "metadata": {},
   "outputs": [],
   "source": [
    "# Get current folder and subfolder event data\n",
    "filepath = os.getcwd() + '/event_data'\n",
    "\n",
    "# Loop through all files and collect links for each file\n",
    "for root, dirs, files in os.walk(filepath):\n",
    "    \n",
    "    # join the file path and roots with the subdirectories using glob\n",
    "    file_path_list = glob.glob(os.path.join(root,'*'))"
   ]
  },
  {
   "cell_type": "markdown",
   "metadata": {},
   "source": [
    "#### Processing the files to create the data file csv that will be used for Apache Casssandra tables"
   ]
  },
  {
   "cell_type": "code",
   "execution_count": 3,
   "metadata": {},
   "outputs": [],
   "source": [
    "# Initiating an empty list of rows that will be generated from each file\n",
    "full_data_rows_list = [] \n",
    "\n",
    "# For every filepath in the file path list \n",
    "for f in file_path_list:\n",
    "\n",
    "    # Read csv file \n",
    "    with open(f, 'r', encoding = 'utf8', newline = '') as csvfile: \n",
    "        # Create a csv reader object \n",
    "        csvreader = csv.reader(csvfile) \n",
    "        next(csvreader)\n",
    "        \n",
    "        # Extract each data row one by one and append it        \n",
    "        for line in csvreader:\n",
    "            full_data_rows_list.append(line)\n",
    "\n",
    "# Select the correct appropriate columns and get rid of rows empty rows\n",
    "# Write into a new file called \"event_datdafile_new.csv\"\n",
    "csv.register_dialect('myDialect', quoting = csv.QUOTE_ALL, skipinitialspace = True)\n",
    "with open('event_datafile_new.csv', 'w', encoding = 'utf8', newline = '') as f:\n",
    "    writer = csv.writer(f, dialect='myDialect')\n",
    "    writer.writerow(['artist','firstName','gender','itemInSession','lastName','length',\\\n",
    "                     'level','location','sessionId','song','userId'])\n",
    "    for row in full_data_rows_list:\n",
    "        if (row[0] == ''):\n",
    "            continue\n",
    "        writer.writerow((row[0], row[2], row[3], row[4], row[5], row[6], row[7], row[8], row[12], row[13], row[16]))"
   ]
  },
  {
   "cell_type": "markdown",
   "metadata": {},
   "source": [
    "# Part II. Cassandra Data Modeling and Insert Data"
   ]
  },
  {
   "cell_type": "markdown",
   "metadata": {},
   "source": [
    "#### Creating a Cluster"
   ]
  },
  {
   "cell_type": "code",
   "execution_count": 4,
   "metadata": {},
   "outputs": [],
   "source": [
    "# This should make a connection to a Cassandra instance your local machine \n",
    "# (127.0.0.1)\n",
    "\n",
    "from cassandra.cluster import Cluster\n",
    "cluster = Cluster()\n",
    "\n",
    "# To establish connection and begin executing queries, need a session\n",
    "session = cluster.connect()"
   ]
  },
  {
   "cell_type": "markdown",
   "metadata": {},
   "source": [
    "#### Create Keyspace and Set Key Sapce"
   ]
  },
  {
   "cell_type": "code",
   "execution_count": 5,
   "metadata": {},
   "outputs": [],
   "source": [
    "try:\n",
    "    session.execute(\"\"\"\n",
    "    CREATE KEYSPACE IF NOT EXISTS sparkify\n",
    "    WITH REPLICATION = \n",
    "    { 'class' : 'SimpleStrategy', 'replication_factor' : 1 }\"\"\")\n",
    "    session.set_keyspace('sparkify')\n",
    "\n",
    "except Exception as e:\n",
    "    print(e)"
   ]
  },
  {
   "cell_type": "markdown",
   "metadata": {},
   "source": [
    "## Queries"
   ]
  },
  {
   "cell_type": "markdown",
   "metadata": {},
   "source": [
    "#### Before we start data modeling with Apache Cassandra, we must first understand how a user will interact with the database. To start, the analytics team at Sparkify wants to understand three basic questions:\n",
    "\n",
    "1. Give me the artist, song title and song's length in the music app history that was heard during sessionId = 338, and itemInSession = 4.\n",
    "2. Give me only the following: name of artist, song (sorted by itemInSession) and user (first and last name) for userid = 10, sessionid = 182.\n",
    "3. Give me every user name (first and last) in my music app history who listened to the song \"All Hands Against His Own\".\n",
    "\n",
    "Therefore, we will create one table for each of the above queries."
   ]
  },
  {
   "cell_type": "markdown",
   "metadata": {},
   "source": [
    "#### Query 1\n",
    "#### \"Give me the artist, song title and song's length in the music app history that was heard during sessionId = 338, and itemInSession = 4.\"\n",
    "\n",
    "Because `sessionId` and `itemInSession` both appear in the `WHERE` clause, it is natural to use them in the primary key."
   ]
  },
  {
   "cell_type": "code",
   "execution_count": 6,
   "metadata": {},
   "outputs": [],
   "source": [
    "# Data file\n",
    "file = 'event_datafile_new.csv'"
   ]
  },
  {
   "cell_type": "code",
   "execution_count": 7,
   "metadata": {},
   "outputs": [],
   "source": [
    "# Create table\n",
    "query = \"CREATE TABLE IF NOT EXISTS query_1 \"\n",
    "query = query + \"(artist text, song_title text, song_length float, session_id int, item_in_session int, \"\n",
    "query = query + \"PRIMARY KEY (session_id, item_in_session))\"\n",
    "\n",
    "try:\n",
    "    session.execute(query)\n",
    "except Exception as e:\n",
    "    print(e)"
   ]
  },
  {
   "cell_type": "code",
   "execution_count": 8,
   "metadata": {},
   "outputs": [],
   "source": [
    "# Insert data\n",
    "with open(file, encoding = 'utf8') as f:\n",
    "    csvreader = csv.reader(f)\n",
    "    next(csvreader) # skip header\n",
    "    for line in csvreader:\n",
    "        query = \"INSERT INTO query_1 (artist, song_title, song_length, session_id, item_in_session) \"\n",
    "        query = query + \"VALUES (%s, %s, %s, %s, %s)\"\n",
    "        session.execute(query, (line[0], line[9], float(line[5]), int(line[8]), int(line[3])))"
   ]
  },
  {
   "cell_type": "code",
   "execution_count": 9,
   "metadata": {},
   "outputs": [
    {
     "name": "stdout",
     "output_type": "stream",
     "text": [
      "Faithless|Music Matters (Mark Knight Dub)|495.30731201171875\n"
     ]
    }
   ],
   "source": [
    "# Query data to check for correctness\n",
    "try:\n",
    "    rows = session.execute(\"\"\"\n",
    "        SELECT \n",
    "            artist,\n",
    "            song_title,\n",
    "            song_length\n",
    "        FROM query_1\n",
    "        WHERE session_id = 338 AND\n",
    "              item_in_session = 4\n",
    "    \"\"\")\n",
    "except Exception as e:\n",
    "    print(e)\n",
    "    \n",
    "for row in rows:\n",
    "    print (row.artist, row.song_title, row.song_length, sep = '|')"
   ]
  },
  {
   "cell_type": "markdown",
   "metadata": {},
   "source": [
    "#### Query 2\n",
    "#### \"Give me only the following: name of artist, song (sorted by itemInSession) and user (first and last name) for userid = 10, sessionid = 182.\"\n",
    "\n",
    "Because `userId` and `sessionId` both appear in the `WHERE` clause, it is natural to use them in the primary key. We also add `itemInSession` as a clustering column because the query wants the `song` column to appear sorted. Do this can increase performance because the clustering column presorts the data as they are inserted."
   ]
  },
  {
   "cell_type": "code",
   "execution_count": 10,
   "metadata": {},
   "outputs": [],
   "source": [
    "# Create Table\n",
    "query = \"CREATE TABLE IF NOT EXISTS query_2 \"\n",
    "query = query + \"(artist text, song_title text, first_name text, last_name text, user_id int, session_id int, item_in_session int, \"\n",
    "query = query + \"PRIMARY KEY (user_id, session_id, item_in_session))\"\n",
    "\n",
    "try:\n",
    "    session.execute(query)\n",
    "except Exception as e:\n",
    "    print(e)"
   ]
  },
  {
   "cell_type": "code",
   "execution_count": 11,
   "metadata": {},
   "outputs": [],
   "source": [
    "# Insert Data\n",
    "with open(file, encoding = 'utf8') as f:\n",
    "    csvreader = csv.reader(f)\n",
    "    next(csvreader) # skip header\n",
    "    for line in csvreader:\n",
    "        query = \"INSERT INTO query_2 (artist, song_title, first_name, last_name, user_id, session_id, item_in_session) \"\n",
    "        query = query + \"VALUES (%s, %s, %s, %s, %s, %s, %s)\"\n",
    "        session.execute(query, (line[0], line[9], line[1], line[4], int(line[10]), int(line[8]), int(line[3])))"
   ]
  },
  {
   "cell_type": "code",
   "execution_count": 12,
   "metadata": {},
   "outputs": [
    {
     "name": "stdout",
     "output_type": "stream",
     "text": [
      "Down To The Bone|Keep On Keepin' On|Sylvie|Cruz|0\n",
      "Three Drives|Greece 2000|Sylvie|Cruz|1\n",
      "Sebastien Tellier|Kilometer|Sylvie|Cruz|2\n",
      "Lonnie Gordon|Catch You Baby (Steve Pitron & Max Sanna Radio Edit)|Sylvie|Cruz|3\n"
     ]
    }
   ],
   "source": [
    "# Query data to check for correctness\n",
    "try:\n",
    "    rows = session.execute(\"\"\"\n",
    "        SELECT \n",
    "            artist,\n",
    "            song_title,\n",
    "            first_name,\n",
    "            last_name,\n",
    "            item_in_session --Add this column just to show that it is sorted\n",
    "        FROM query_2\n",
    "        WHERE user_id = 10 AND\n",
    "              session_id = 182\n",
    "    \"\"\")\n",
    "except Exception as e:\n",
    "    print(e)\n",
    "    \n",
    "for row in rows:\n",
    "    print (row.artist, row.song_title, row.first_name, row.last_name, row.item_in_session, sep = '|')"
   ]
  },
  {
   "cell_type": "markdown",
   "metadata": {},
   "source": [
    "#### Query 3\n",
    "#### \"Give me every user name (first and last) in my music app history who listened to the song 'All Hands Against His Own'\"\n",
    "\n",
    "For this query, we can set the composite primary key to `song` and `userId`. Since we are only interested in whether or not a user has listened to a particular song, we do not have to worry about duplication when a a user listens to the same song more than once. A record with a duplicate primary key will automatically overwrite the original record."
   ]
  },
  {
   "cell_type": "code",
   "execution_count": 13,
   "metadata": {},
   "outputs": [],
   "source": [
    "# Create data\n",
    "query = \"CREATE TABLE IF NOT EXISTS query_3 \"\n",
    "query = query + \"(first_name text, last_name text, user_id int, song_title text, \"\n",
    "query = query + \"PRIMARY KEY (song_title, user_id))\"\n",
    "\n",
    "try:\n",
    "    session.execute(query)\n",
    "except Exception as e:\n",
    "    print(e)"
   ]
  },
  {
   "cell_type": "code",
   "execution_count": 14,
   "metadata": {},
   "outputs": [],
   "source": [
    "# Insert data\n",
    "with open(file, encoding = 'utf8') as f:\n",
    "    csvreader = csv.reader(f)\n",
    "    next(csvreader) # skip header\n",
    "    for line in csvreader:\n",
    "        query = \"INSERT INTO query_3 (first_name, last_name, user_id, song_title) \"\n",
    "        query = query + \"VALUES (%s, %s, %s, %s)\"\n",
    "        session.execute(query, (line[1], line[4], int(line[10]), line[9]))"
   ]
  },
  {
   "cell_type": "code",
   "execution_count": 16,
   "metadata": {},
   "outputs": [
    {
     "name": "stdout",
     "output_type": "stream",
     "text": [
      "Tegan|Levine\n",
      "Sara|Johnson\n"
     ]
    }
   ],
   "source": [
    "# Query data to check for correctness\n",
    "try:\n",
    "    rows = session.execute(\"\"\"\n",
    "        SELECT \n",
    "            first_name, \n",
    "            last_name\n",
    "        FROM query_3\n",
    "        WHERE song_title = 'All Hands Against His Own'\n",
    "    \"\"\")\n",
    "except Exception as e:\n",
    "    print(e)\n",
    "    \n",
    "for row in rows:\n",
    "    print (row.first_name, row.last_name, sep='|')"
   ]
  },
  {
   "cell_type": "markdown",
   "metadata": {},
   "source": [
    "## Drop the tables before closing out the sessions"
   ]
  },
  {
   "cell_type": "code",
   "execution_count": 17,
   "metadata": {},
   "outputs": [],
   "source": [
    "tables = [\"query_1\", \"query_2\", \"query_3\"]\n",
    "\n",
    "for table in tables:\n",
    "    query = 'DROP TABLE ' + table\n",
    "    try:\n",
    "        rows = session.execute(query)\n",
    "    except Exception as e:\n",
    "        print(e)"
   ]
  },
  {
   "cell_type": "code",
   "execution_count": null,
   "metadata": {},
   "outputs": [],
   "source": []
  }
 ],
 "metadata": {
  "kernelspec": {
   "display_name": "Python 3",
   "language": "python",
   "name": "python3"
  },
  "language_info": {
   "codemirror_mode": {
    "name": "ipython",
    "version": 3
   },
   "file_extension": ".py",
   "mimetype": "text/x-python",
   "name": "python",
   "nbconvert_exporter": "python",
   "pygments_lexer": "ipython3",
   "version": "3.6.3"
  }
 },
 "nbformat": 4,
 "nbformat_minor": 2
}
